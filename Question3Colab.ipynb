{
  "nbformat": 4,
  "nbformat_minor": 0,
  "metadata": {
    "colab": {
      "name": "Question3Colab.ipynb",
      "provenance": [],
      "collapsed_sections": [],
      "toc_visible": true,
      "include_colab_link": true
    },
    "kernelspec": {
      "display_name": "Python 3",
      "language": "python",
      "name": "python3"
    },
    "language_info": {
      "codemirror_mode": {
        "name": "ipython",
        "version": 3
      },
      "file_extension": ".py",
      "mimetype": "text/x-python",
      "name": "python",
      "nbconvert_exporter": "python",
      "pygments_lexer": "ipython3",
      "version": "3.6.9"
    }
  },
  "cells": [
    {
      "cell_type": "markdown",
      "metadata": {
        "id": "view-in-github",
        "colab_type": "text"
      },
      "source": [
        "<a href=\"https://colab.research.google.com/github/sabinahartnett/Data-and-Code/blob/main/Question3Colab.ipynb\" target=\"_parent\"><img src=\"https://colab.research.google.com/assets/colab-badge.svg\" alt=\"Open In Colab\"/></a>"
      ]
    },
    {
      "cell_type": "markdown",
      "metadata": {
        "id": "ph3bDypIEXdd"
      },
      "source": [
        "## Sabina Hartnett \n",
        "### Question 3 - Implementing a Reproducible Machine Learning Pipeline\n",
        "with some code acquired from John Snow Labs (https://nlp.johnsnowlabs.com/2021/01/15/analyze_sentimentdl_use_imdb_en.html) "
      ]
    },
    {
      "cell_type": "markdown",
      "metadata": {
        "id": "aaVmDt1TEXdh"
      },
      "source": [
        "# Spark NLP \n",
        "### Had issues loading in the PySpark 'spark = SparkSession.builder.master(\"local[*]\").getOrCreate()' from the Local/Colab Spark Setup given to us since it then wouldn't allow me to use Spark NLP... so using this here since it is working"
      ]
    },
    {
      "cell_type": "code",
      "metadata": {
        "id": "6vvsIJ2p2Ebl"
      },
      "source": [
        "''' \n",
        "# NOTE: this code was causing errors later with my code... so commented out\n",
        "%%bash\n",
        "apt-get update\n",
        "apt-get install -y openjdk-8-jdk-headless -qq > /dev/null\n",
        "\n",
        "wget -q \"https://downloads.apache.org/spark/spark-3.1.1/spark-3.1.1-bin-hadoop2.7.tgz\" > /dev/null\n",
        "tar -xvf spark-3.1.1-bin-hadoop2.7.tgz > /dev/null\n",
        "\n",
        "pip install pyspark findspark\n",
        "# Set path to Spark\n",
        "import os\n",
        "os.environ[\"SPARK_HOME\"] = \"/content/spark-3.1.1-bin-hadoop2.7\"\n",
        "\n",
        "# Find Spark so that we can access session within our notebook\n",
        "import findspark\n",
        "findspark.init()\n",
        "\n",
        "# Start SparkSession on all available cores\n",
        "from pyspark.sql import SparkSession\n",
        "#changed in the builder using code from: https://nlp.johnsnowlabs.com/docs/en/install\n",
        "spark = SparkSession.builder.appName(\"Spark NLP\").master(\"local[*]\").config(\"spark.driver.memory\",\"16G\").config(\"spark.driver.maxResultSize\", \"0\").config(\"spark.kryoserializer.buffer.max\", \"2000M\").config(\"spark.jars.packages\", \"com.johnsnowlabs.nlp:spark-nlp_2.12:3.0.3\").getOrCreate()\n",
        "'''"
      ],
      "execution_count": null,
      "outputs": []
    },
    {
      "cell_type": "markdown",
      "metadata": {
        "id": "YkbpOBs6DasA"
      },
      "source": [
        "[![Open In Colab](https://colab.research.google.com/assets/colab-badge.svg)](https://colab.research.google.com/github/JohnSnowLabs/spark-nlp-workshop/blob/master/jupyter/quick_start_google_colab.ipynb)"
      ]
    },
    {
      "cell_type": "code",
      "metadata": {
        "id": "tyMMD_upEfIa",
        "colab": {
          "base_uri": "https://localhost:8080/"
        },
        "outputId": "46451626-933e-4732-d0e0-c2a0937f9a60"
      },
      "source": [
        "!wget http://setup.johnsnowlabs.com/colab.sh -O - | bash"
      ],
      "execution_count": 3,
      "outputs": [
        {
          "output_type": "stream",
          "text": [
            "--2021-05-31 00:46:03--  http://setup.johnsnowlabs.com/colab.sh\n",
            "Resolving setup.johnsnowlabs.com (setup.johnsnowlabs.com)... 51.158.130.125\n",
            "Connecting to setup.johnsnowlabs.com (setup.johnsnowlabs.com)|51.158.130.125|:80... connected.\n",
            "HTTP request sent, awaiting response... 302 Moved Temporarily\n",
            "Location: https://raw.githubusercontent.com/JohnSnowLabs/spark-nlp/master/scripts/colab_setup.sh [following]\n",
            "--2021-05-31 00:46:03--  https://raw.githubusercontent.com/JohnSnowLabs/spark-nlp/master/scripts/colab_setup.sh\n",
            "Resolving raw.githubusercontent.com (raw.githubusercontent.com)... 185.199.108.133, 185.199.109.133, 185.199.110.133, ...\n",
            "Connecting to raw.githubusercontent.com (raw.githubusercontent.com)|185.199.108.133|:443... connected.\n",
            "HTTP request sent, awaiting response... 200 OK\n",
            "Length: 1608 (1.6K) [text/plain]\n",
            "Saving to: ‘STDOUT’\n",
            "\n",
            "-                   100%[===================>]   1.57K  --.-KB/s    in 0s      \n",
            "\n",
            "2021-05-31 00:46:03 (28.3 MB/s) - written to stdout [1608/1608]\n",
            "\n",
            "setup Colab for PySpark 3.0.2 and Spark NLP 3.0.3\n",
            "Get:1 https://cloud.r-project.org/bin/linux/ubuntu bionic-cran40/ InRelease [3,626 B]\n",
            "Get:2 http://security.ubuntu.com/ubuntu bionic-security InRelease [88.7 kB]\n",
            "Ign:3 https://developer.download.nvidia.com/compute/cuda/repos/ubuntu1804/x86_64  InRelease\n",
            "Get:4 http://ppa.launchpad.net/c2d4u.team/c2d4u4.0+/ubuntu bionic InRelease [15.9 kB]\n",
            "Hit:5 http://archive.ubuntu.com/ubuntu bionic InRelease\n",
            "Ign:6 https://developer.download.nvidia.com/compute/machine-learning/repos/ubuntu1804/x86_64  InRelease\n",
            "Get:7 https://developer.download.nvidia.com/compute/cuda/repos/ubuntu1804/x86_64  Release [697 B]\n",
            "Hit:8 https://developer.download.nvidia.com/compute/machine-learning/repos/ubuntu1804/x86_64  Release\n",
            "Get:9 https://developer.download.nvidia.com/compute/cuda/repos/ubuntu1804/x86_64  Release.gpg [836 B]\n",
            "Get:10 http://archive.ubuntu.com/ubuntu bionic-updates InRelease [88.7 kB]\n",
            "Hit:11 http://ppa.launchpad.net/cran/libgit2/ubuntu bionic InRelease\n",
            "Get:12 https://cloud.r-project.org/bin/linux/ubuntu bionic-cran40/ Packages [60.9 kB]\n",
            "Get:13 http://archive.ubuntu.com/ubuntu bionic-backports InRelease [74.6 kB]\n",
            "Hit:14 http://ppa.launchpad.net/deadsnakes/ppa/ubuntu bionic InRelease\n",
            "Get:15 http://security.ubuntu.com/ubuntu bionic-security/restricted amd64 Packages [423 kB]\n",
            "Get:16 http://ppa.launchpad.net/graphics-drivers/ppa/ubuntu bionic InRelease [21.3 kB]\n",
            "Get:17 http://security.ubuntu.com/ubuntu bionic-security/main amd64 Packages [2,152 kB]\n",
            "Get:18 http://security.ubuntu.com/ubuntu bionic-security/universe amd64 Packages [1,413 kB]\n",
            "Ign:20 https://developer.download.nvidia.com/compute/cuda/repos/ubuntu1804/x86_64  Packages\n",
            "Get:20 https://developer.download.nvidia.com/compute/cuda/repos/ubuntu1804/x86_64  Packages [798 kB]\n",
            "Get:21 http://ppa.launchpad.net/c2d4u.team/c2d4u4.0+/ubuntu bionic/main Sources [1,770 kB]\n",
            "Get:22 http://archive.ubuntu.com/ubuntu bionic-updates/universe amd64 Packages [2,184 kB]\n",
            "Get:23 http://ppa.launchpad.net/c2d4u.team/c2d4u4.0+/ubuntu bionic/main amd64 Packages [906 kB]\n",
            "Get:24 http://archive.ubuntu.com/ubuntu bionic-updates/restricted amd64 Packages [452 kB]\n",
            "Get:25 http://archive.ubuntu.com/ubuntu bionic-updates/main amd64 Packages [2,584 kB]\n",
            "Get:26 http://ppa.launchpad.net/graphics-drivers/ppa/ubuntu bionic/main amd64 Packages [41.5 kB]\n",
            "Fetched 13.1 MB in 3s (3,755 kB/s)\n",
            "Reading package lists... Done\n",
            "\u001b[K     |████████████████████████████████| 204.8MB 65kB/s \n",
            "\u001b[K     |████████████████████████████████| 51kB 6.0MB/s \n",
            "\u001b[K     |████████████████████████████████| 204kB 54.4MB/s \n",
            "\u001b[?25h  Building wheel for pyspark (setup.py) ... \u001b[?25l\u001b[?25hdone\n"
          ],
          "name": "stdout"
        }
      ]
    },
    {
      "cell_type": "markdown",
      "metadata": {
        "id": "XtCa0sZ8EXdj"
      },
      "source": [
        "We will first set up the runtime environment and then load pretrained Entity Recognition model and Sentiment analysis model and give it a quick test. "
      ]
    },
    {
      "cell_type": "code",
      "metadata": {
        "colab": {
          "base_uri": "https://localhost:8080/"
        },
        "id": "5in-TmzGEXdk",
        "outputId": "bdf1693e-bec3-4535-da32-f10a73c93d05"
      },
      "source": [
        "import sparknlp\n",
        "spark = sparknlp.start()\n",
        "\n",
        "print(\"Spark NLP version: {}\".format(sparknlp.version()))\n",
        "print(\"Apache Spark version: {}\".format(spark.version))"
      ],
      "execution_count": 4,
      "outputs": [
        {
          "output_type": "stream",
          "text": [
            "Spark NLP version: 3.0.3\n",
            "Apache Spark version: 3.0.2\n"
          ],
          "name": "stdout"
        }
      ]
    },
    {
      "cell_type": "code",
      "metadata": {
        "id": "Wt1KiTMFEXdp"
      },
      "source": [
        "from sparknlp.pretrained import PretrainedPipeline "
      ],
      "execution_count": 5,
      "outputs": []
    },
    {
      "cell_type": "markdown",
      "metadata": {
        "id": "RtGm-OY4EXds"
      },
      "source": [
        "Let's use Spark NLP pre-trained pipeline for `named entity recognition`"
      ]
    },
    {
      "cell_type": "code",
      "metadata": {
        "colab": {
          "base_uri": "https://localhost:8080/"
        },
        "id": "BgFZMgNVqxft",
        "outputId": "8c88fd18-64fb-4b10-8e16-db4cb5547762"
      },
      "source": [
        "pipeline_ent = PretrainedPipeline('recognize_entities_dl', 'en')"
      ],
      "execution_count": 5,
      "outputs": [
        {
          "output_type": "stream",
          "text": [
            "recognize_entities_dl download started this may take some time.\n",
            "Approx size to download 160.1 MB\n",
            "[OK!]\n"
          ],
          "name": "stdout"
        }
      ]
    },
    {
      "cell_type": "code",
      "metadata": {
        "id": "C3GYM3ApuD5a"
      },
      "source": [
        "result_ent = pipeline_ent.annotate('President Biden represented Delaware for 36 years in the U.S. Senate before becoming the 47th Vice President of the United States.') "
      ],
      "execution_count": 8,
      "outputs": []
    },
    {
      "cell_type": "code",
      "metadata": {
        "colab": {
          "base_uri": "https://localhost:8080/"
        },
        "id": "tTr24z4cuKUi",
        "outputId": "b1dab64b-3e88-4849-ddbc-b073f5f54d58"
      },
      "source": [
        "print(result_ent['entities'])"
      ],
      "execution_count": 9,
      "outputs": [
        {
          "output_type": "stream",
          "text": [
            "['Biden', 'Delaware', 'U.S', 'Senate', 'United States']\n"
          ],
          "name": "stdout"
        }
      ]
    },
    {
      "cell_type": "markdown",
      "metadata": {
        "id": "0EKcEN_oEXd9"
      },
      "source": [
        "Let's use Spark NLP pre-trained pipeline for `sentiment` analysis"
      ]
    },
    {
      "cell_type": "code",
      "metadata": {
        "colab": {
          "base_uri": "https://localhost:8080/"
        },
        "id": "lNu3meQKEXdu",
        "outputId": "495374bb-8288-4ecb-933c-0e219f76fbff"
      },
      "source": [
        "pipeline = PretrainedPipeline('analyze_sentimentdl_glove_imdb', 'en')"
      ],
      "execution_count": 4,
      "outputs": [
        {
          "output_type": "stream",
          "text": [
            "analyze_sentimentdl_glove_imdb download started this may take some time.\n",
            "Approx size to download 155.3 MB\n",
            "[OK!]\n"
          ],
          "name": "stdout"
        }
      ]
    },
    {
      "cell_type": "code",
      "metadata": {
        "id": "iMzyLyftEXdy",
        "colab": {
          "base_uri": "https://localhost:8080/"
        },
        "outputId": "ba57353d-8a9a-4c28-e83d-26bc11a0a8c1"
      },
      "source": [
        "pipeline.annotate('President Biden represented Delaware for 36 years in the U.S. Senate before becoming the 47th Vice President of the United States.')['sentiment']"
      ],
      "execution_count": 50,
      "outputs": [
        {
          "output_type": "execute_result",
          "data": {
            "text/plain": [
              "['pos']"
            ]
          },
          "metadata": {
            "tags": []
          },
          "execution_count": 50
        }
      ]
    },
    {
      "cell_type": "code",
      "metadata": {
        "colab": {
          "base_uri": "https://localhost:8080/"
        },
        "id": "5Ark1N0GEXd1",
        "outputId": "e735d70e-e8c4-4c9e-d83b-5120f6cd3d2a"
      },
      "source": [
        "print(result['sentiment'])"
      ],
      "execution_count": 7,
      "outputs": [
        {
          "output_type": "stream",
          "text": [
            "['pos']\n"
          ],
          "name": "stdout"
        }
      ]
    },
    {
      "cell_type": "code",
      "metadata": {
        "colab": {
          "base_uri": "https://localhost:8080/"
        },
        "id": "dEOF_BHwQE4L",
        "outputId": "5444ebf5-8b8c-444b-f06f-a94a005133a5"
      },
      "source": [
        "!pip install wget\n",
        "import wget\n",
        "wget.download('https://s3.amazonaws.com/amazon-reviews-pds/tsv/sample_us.tsv', 'sample_data/sample_us.tsv')\n",
        "# Read TSV file from default data download directory in Colab\n",
        "data = spark.read.csv('sample_data/sample_us.tsv',\n",
        "                      sep=\"\\t\",\n",
        "                      header=True,\n",
        "                      inferSchema=True)"
      ],
      "execution_count": 6,
      "outputs": [
        {
          "output_type": "stream",
          "text": [
            "Collecting wget\n",
            "  Downloading https://files.pythonhosted.org/packages/47/6a/62e288da7bcda82b935ff0c6cfe542970f04e29c756b0e147251b2fb251f/wget-3.2.zip\n",
            "Building wheels for collected packages: wget\n",
            "  Building wheel for wget (setup.py) ... \u001b[?25l\u001b[?25hdone\n",
            "  Created wheel for wget: filename=wget-3.2-cp37-none-any.whl size=9681 sha256=d4fcdeb8ea2b4387a94bdf4807fd5ade8112e8a3c4884c758580012a90bb6eb5\n",
            "  Stored in directory: /root/.cache/pip/wheels/40/15/30/7d8f7cea2902b4db79e3fea550d7d7b85ecb27ef992b618f3f\n",
            "Successfully built wget\n",
            "Installing collected packages: wget\n",
            "Successfully installed wget-3.2\n"
          ],
          "name": "stdout"
        }
      ]
    },
    {
      "cell_type": "code",
      "metadata": {
        "colab": {
          "base_uri": "https://localhost:8080/"
        },
        "id": "67Zr8JYAQgZ4",
        "outputId": "eb25a236-932d-4fcd-cde1-f7fe1fdd4542"
      },
      "source": [
        "data.printSchema()"
      ],
      "execution_count": 13,
      "outputs": [
        {
          "output_type": "stream",
          "text": [
            "root\n",
            " |-- marketplace: string (nullable = true)\n",
            " |-- customer_id: integer (nullable = true)\n",
            " |-- review_id: string (nullable = true)\n",
            " |-- product_id: string (nullable = true)\n",
            " |-- product_parent: integer (nullable = true)\n",
            " |-- product_title: string (nullable = true)\n",
            " |-- product_category: string (nullable = true)\n",
            " |-- star_rating: integer (nullable = true)\n",
            " |-- helpful_votes: integer (nullable = true)\n",
            " |-- total_votes: integer (nullable = true)\n",
            " |-- vine: string (nullable = true)\n",
            " |-- verified_purchase: string (nullable = true)\n",
            " |-- review_headline: string (nullable = true)\n",
            " |-- review_body: string (nullable = true)\n",
            " |-- review_date: string (nullable = true)\n",
            "\n"
          ],
          "name": "stdout"
        }
      ]
    },
    {
      "cell_type": "code",
      "metadata": {
        "colab": {
          "base_uri": "https://localhost:8080/"
        },
        "id": "Fcf6-P_LQjol",
        "outputId": "686da5eb-a959-492a-a85e-73fb65879c3e"
      },
      "source": [
        "(data.groupBy('star_rating')\n",
        "     .sum('total_votes')\n",
        "     .sort('star_rating', ascending=False)\n",
        "     .show()\n",
        ")"
      ],
      "execution_count": 14,
      "outputs": [
        {
          "output_type": "stream",
          "text": [
            "+-----------+----------------+\n",
            "|star_rating|sum(total_votes)|\n",
            "+-----------+----------------+\n",
            "|          5|              13|\n",
            "|          4|               3|\n",
            "|          3|               8|\n",
            "|          2|               2|\n",
            "|          1|               8|\n",
            "+-----------+----------------+\n",
            "\n"
          ],
          "name": "stdout"
        }
      ]
    },
    {
      "cell_type": "code",
      "metadata": {
        "id": "U8h-9Q32YZRG"
      },
      "source": [
        "from pyspark.sql.functions import *"
      ],
      "execution_count": 7,
      "outputs": []
    },
    {
      "cell_type": "code",
      "metadata": {
        "colab": {
          "base_uri": "https://localhost:8080/"
        },
        "id": "KcdWiEiVTngs",
        "outputId": "09022859-6f03-4c3f-e8b9-96614f1f71ca"
      },
      "source": [
        "data = (data.withColumn('star_rating', col('star_rating').cast('int'))\n",
        "            .withColumn('total_votes', col('total_votes').cast('int'))\n",
        "            .withColumn('helpful_votes', col('helpful_votes').cast('int'))\n",
        "            )\n",
        "data.printSchema"
      ],
      "execution_count": 8,
      "outputs": [
        {
          "output_type": "execute_result",
          "data": {
            "text/plain": [
              "<bound method DataFrame.printSchema of DataFrame[marketplace: string, customer_id: int, review_id: string, product_id: string, product_parent: int, product_title: string, product_category: string, star_rating: int, helpful_votes: int, total_votes: int, vine: string, verified_purchase: string, review_headline: string, review_body: string, review_date: string]>"
            ]
          },
          "metadata": {
            "tags": []
          },
          "execution_count": 8
        }
      ]
    },
    {
      "cell_type": "code",
      "metadata": {
        "colab": {
          "base_uri": "https://localhost:8080/"
        },
        "id": "zpH9MX9Qu55O",
        "outputId": "de84277c-f85a-414b-91af-3589f973c991"
      },
      "source": [
        "# From code given\n",
        "data = data.withColumn('good_review', (data.star_rating >= 4).cast(\"integer\"))\n",
        "\n",
        "(data.groupBy('good_review')\n",
        "     .count()\n",
        "     .show()\n",
        ")"
      ],
      "execution_count": 9,
      "outputs": [
        {
          "output_type": "stream",
          "text": [
            "+-----------+-----+\n",
            "|good_review|count|\n",
            "+-----------+-----+\n",
            "|          1|   37|\n",
            "|          0|   12|\n",
            "+-----------+-----+\n",
            "\n"
          ],
          "name": "stdout"
        }
      ]
    },
    {
      "cell_type": "markdown",
      "metadata": {
        "id": "eBmME-XX2Cts"
      },
      "source": [
        "## 3a. Engineering additional features\n",
        "NOW to **add the additional variables**: I have calculated the average number of total votes (5.33), helpful votes (3.84) and the average rating (4.3) - these values were acquired using pyspark on the FULL dataset on midway (see other notebook for those calculations) so I have created three variables which ==1 when the respective column is above average and 0 otherwise, as well as a column which calculates the length of the review of that Amazon item (here toys but in the larger set books).\n",
        "\n",
        "'*above_avg_total_votes*' was created to contextualize the number of total votes: while it may still be useful to investigate the relationship between the raw number of votes, this cutoff may be a simplified way to investigate (if there is) the relationship between the total number of votes and whether the star rating of the item is 'good' (>3).\n",
        "\n",
        "'*above_avg_helpful_votes*' was created to contextualize the number of helpful votes: while it may still be useful to investigate the relationship between the raw number of votes, this cutoff may be a simplified way to investigate (if there is) the relationship between the number of helpful votes and whether the star rating of the item is 'good' (>3).\n",
        "\n",
        "'*review_len*' Shows the length of the respective review. As I was investigating the data, a natural question emerged: 'do people write longer positive or longer negative reviews?' and is this value consistent and interpretable? This variable will help us investigate and understand these two questions"
      ]
    },
    {
      "cell_type": "code",
      "metadata": {
        "id": "pbCDXFcYUT-o"
      },
      "source": [
        "data = data.withColumn('above_avg_total_votes', (data.total_votes > 5.33).cast('integer'))\n",
        "data = data.withColumn('above_avg_helpful_votes', (data.helpful_votes > 3.84).cast('integer'))\n",
        "\n",
        "#the feature below will too similar to 'good_review'\n",
        "#data = data.withColumn('above_avg_rating', (data.star_rating > 4.3).cast('integer'))\n",
        "data = data.withColumn('review_length', length(col('review_body')))"
      ],
      "execution_count": 17,
      "outputs": []
    },
    {
      "cell_type": "markdown",
      "metadata": {
        "id": "wFTYaqSj2zca"
      },
      "source": [
        "# Engineering Text-Derived Features:\n",
        "Here I have chosen to include the overall sentiment of the review and the number of entitites included in the review.\n",
        "\n",
        "'*pos_sentiment*' == 1 when the review of the item is overall determined to be positive using sparknlp. This intuitively will help us in predicting the star rating of a product where positive sentiments will significantly likely predict a 'good' rating.\n",
        "\n",
        "'*num_entities*' equals the number of entities identified in the review_body by the sparknlp pretrained pipeline. Ideally, it would be useful to identify whether the entity == the product or == amazon but that is room for further analysis. As is, this column can (abstractly) help us understand how directly/actively the reviewer is writing about their experience with the product and in the following steps we will investigate this features relationship to whether a review is 'good'."
      ]
    },
    {
      "cell_type": "code",
      "metadata": {
        "colab": {
          "base_uri": "https://localhost:8080/"
        },
        "id": "8TH8xp7luzdL",
        "outputId": "fcc33815-f44d-4afe-963a-2a91d626a495"
      },
      "source": [
        "#add sentiment analysis ('is positive sentiment' column)\n",
        "from pyspark.sql import functions as f\n",
        "#cant figure out how to contain this to a withColumn command - gives errors that you\n",
        "#canot just pass a col\n",
        "text_col = data.select(f.col(\"review_body\").alias(\"text\"))\n",
        "# analyze sentiment\n",
        "sntmt = pipeline.transform(text_col)\n",
        "df_sntmnt = sntmt.selectExpr([\"text\", \"sentiment[0].result\"])\n",
        "#extract just the output of the sentiment result into its own column \n",
        "df_sntmnt =df_sntmnt.withColumnRenamed(\"sentiment[0].result\", \"sentiment\")\n",
        "df_sntmnt = df_sntmnt.withColumn(\"pos_sentiment\",\n",
        "                           f.when((f.col(\"sentiment\") == \"pos\"), 1).otherwise(0))\n",
        "\n",
        "#join that column onto original DF\n",
        "full_data = data.join(df_sntmnt, data.review_body == df_sntmnt.text, how = \"inner\")\n",
        "full_data.show()"
      ],
      "execution_count": 42,
      "outputs": [
        {
          "output_type": "stream",
          "text": [
            "+-----------+-----------+--------------+----------+--------------+--------------------+----------------+-----------+-------------+-----------+----+-----------------+--------------------+--------------------+-----------+---------------------+-----------------------+----------------+-------------+-----------+--------------------+---------+-------------+\n",
            "|marketplace|customer_id|     review_id|product_id|product_parent|       product_title|product_category|star_rating|helpful_votes|total_votes|vine|verified_purchase|     review_headline|         review_body|review_date|above_avg_total_votes|above_avg_helpful_votes|above_avg_rating|review_length|good_review|                text|sentiment|pos_sentiment|\n",
            "+-----------+-----------+--------------+----------+--------------+--------------------+----------------+-----------+-------------+-----------+----+-----------------+--------------------+--------------------+-----------+---------------------+-----------------------+----------------+-------------+-----------+--------------------+---------+-------------+\n",
            "|         US|   18778586| RDIJS7QYB6XNR|B00EDBY7X8|     122952789|Monopoly Junior B...|            Toys|          5|            0|          0|   N|                Y|          Five Stars|        Excellent!!!| 2015-08-31|                    0|                      0|               1|           12|          1|        Excellent!!!|      pos|            1|\n",
            "|         US|   24769659|R36ED1U38IELG8|B00D7JFOPC|     952062646|56 Pieces of Wood...|            Toys|          5|            0|          0|   N|                Y|Good quality trac...|Great quality woo...| 2015-08-31|                    0|                      0|               1|          265|          1|Great quality woo...|      pos|            1|\n",
            "|         US|   44331596| R1UE3RPRGCOLD|B002LHA74O|     818126353|Super Jumbo Playi...|            Toys|          2|            1|          1|   N|                Y|           Two Stars|Cards are not as ...| 2015-08-31|                    0|                      0|               0|           33|          0|Cards are not as ...|      neg|            0|\n",
            "|         US|   23310293|R298788GS6I901|B00ARPLCGY|     261944918|Barbie Doll and F...|            Toys|          5|            0|          0|   N|                Y|my daughter loved...|my daughter loved...| 2015-08-31|                    0|                      0|               1|          145|          1|my daughter loved...|      pos|            1|\n",
            "|         US|   38745832|  RNX4EXOBBPN5|B00UZOPOFW|     717410439|Emazing Lights eL...|            Toys|          1|            1|          1|   N|                Y|     DONT BUY THESE!|Do not buy these!...| 2015-08-31|                    0|                      0|               0|          241|          0|Do not buy these!...|      neg|            0|\n",
            "|         US|   13394189|R3BPETL222LMIM|B009B7F6CA|     873028700|Melissa & Doug Wa...|            Toys|          5|            0|          0|   N|                Y|          Five Stars|Great item. Pictu...| 2015-08-31|                    0|                      0|               1|          105|          1|Great item. Pictu...|      pos|            1|\n",
            "|         US|    2749569|R3SORMPJZO3F2J|B0101EHRSM|     723424342|Big Bang Cosmic P...|            Toys|          3|            2|          2|   N|                Y|         Three Stars|To keep together,...| 2015-08-31|                    0|                      0|               0|           41|          0|To keep together,...|      neg|            0|\n",
            "|         US|   41137196|R2RDOJQ0WBZCF6|B00407S11Y|     383363775|Fun Express Insec...|            Toys|          5|            0|          0|   N|                Y|          Five Stars|I was pleased wit...| 2015-08-31|                    0|                      0|               1|           31|          1|I was pleased wit...|      pos|            1|\n",
            "|         US|     433677|R2B8VBEPB4YEZ7|B00FGPU7U2|     780517568|Fisher-Price Octo...|            Toys|          5|            0|          0|   N|                Y|          Five Stars|    Children like it| 2015-08-31|                    0|                      0|               1|           16|          1|    Children like it|      neg|            0|\n",
            "|         US|    1297934|R1CB783I7B0U52|B0013OY0S0|     269360126|Claw Climber Goli...|            Toys|          1|            0|          1|   N|                Y|Shame on the sell...|Showed up not how...| 2015-08-31|                    0|                      0|               0|           71|          0|Showed up not how...|      neg|            0|\n",
            "|         US|   52006292| R2D90RQQ3V8LH|B00519PJTW|     493486387|100 Foot Multicol...|            Toys|          5|            0|          0|   N|                Y|          Five Stars|Really liked thes...| 2015-08-31|                    0|                      0|               1|           76|          1|Really liked thes...|      pos|            1|\n",
            "|         US|   32071052|R1Y4ZOUGFMJ327|B001TCY2DO|     459122467|Pig Jumbo Foil Ba...|            Toys|          5|            0|          0|   N|                Y|   Nice huge balloon|Nice huge balloon...| 2015-08-31|                    0|                      0|               1|          103|          1|Nice huge balloon...|      neg|            0|\n",
            "|         US|    7360347|R2BUV9QJI2A00X|B00DOQCWF8|     226984155|Minecraft Animal ...|            Toys|          5|            0|          1|   N|                Y|          Five Stars|          Great deal| 2015-08-31|                    0|                      0|               1|           10|          1|          Great deal|      pos|            1|\n",
            "|         US|   11613707| RSUHRJFJIRB3Z|B004C04I4I|     375659886|Disney Baby: Eeyo...|            Toys|          4|            0|          0|   N|                Y|          Four Stars|       As Advertised| 2015-08-31|                    0|                      0|               0|           13|          1|       As Advertised|      pos|            1|\n",
            "|         US|   13545982|R1T96CG98BBA15|B00NWGEKBY|     933734136|Team Losi 8IGHT-E...|            Toys|          3|            2|          4|   N|                Y|... servo so expe...|Comes w a 15$ ser...| 2015-08-31|                    0|                      0|               0|          110|          0|Comes w a 15$ ser...|      pos|            1|\n",
            "|         US|   43880421| R2ATXF4QQ30YW|B00000JS5S|     341842639|Hot Wheels 48- Ca...|            Toys|          5|            0|          0|   N|                Y|          Five Stars|   awesome ! Thanks!| 2015-08-31|                    0|                      0|               1|           17|          1|   awesome ! Thanks!|      pos|            1|\n",
            "|         US|    1662075|R1YS3DS218NNMD|B00XPWXYDK|     210135375|ZuZo 2.4GHz 4 CH ...|            Toys|          5|            4|          4|   N|                N|The closest relev...|I got this item f...| 2015-08-31|                    0|                      1|               1|          641|          1|I got this item f...|      pos|            1|\n",
            "|         US|   18461411|R2SDXLTLF92O0H|B00VPXX92W|     705054378|Teenage Mutant Ni...|            Toys|          5|            0|          0|   N|                Y|          Five Stars|It was a birthday...| 2015-08-31|                    0|                      0|               1|           59|          1|It was a birthday...|      pos|            1|\n",
            "|         US|   27225859| R4R337CCDWLNG|B00YRA3H4U|     223420727|Franklin Sports M...|            Toys|          3|            0|          1|   Y|                N|Got wrong product...|Got a wrong produ...| 2015-08-31|                    0|                      0|               0|          361|          0|Got a wrong produ...|      neg|            0|\n",
            "|         US|   20494593|R32Z6UA4S5Q630|B009T8BSQY|     787701676|Alien Frontiers: ...|            Toys|          1|            0|          0|   N|                Y|         Overpriced.|You need expansio...| 2015-08-31|                    0|                      0|               0|          269|          0|You need expansio...|      pos|            1|\n",
            "+-----------+-----------+--------------+----------+--------------+--------------------+----------------+-----------+-------------+-----------+----+-----------------+--------------------+--------------------+-----------+---------------------+-----------------------+----------------+-------------+-----------+--------------------+---------+-------------+\n",
            "only showing top 20 rows\n",
            "\n"
          ],
          "name": "stdout"
        }
      ]
    },
    {
      "cell_type": "code",
      "metadata": {
        "colab": {
          "base_uri": "https://localhost:8080/"
        },
        "id": "DYdDCqVrxff_",
        "outputId": "18b50f0d-5b81-4126-d769-032604664749"
      },
      "source": [
        "## and add entities\n",
        "text_col = data.select(f.col(\"review_body\").alias(\"text\"))\n",
        "# analyze sentiment\n",
        "entities_col = pipeline_ent.transform(text_col)\n",
        "\n",
        "#entities_df = entities_col.selectExpr([\"text\", \"sentiment[0].result\"])\n",
        "#entities_col.select(\"entities.result\").show(truncate=False)\n",
        "entities_df = entities_col.withColumn('num_entities', size(col('entities.result')))\n",
        "def_ents = entities_df.select('text','entities', 'num_entities')\n",
        "#join that column onto original DF\n",
        "full_data = full_data.join(def_ents, data.review_body == def_ents.text, how = \"inner\")\n",
        "full_data = full_data.drop('text')\n",
        "full_data.show()"
      ],
      "execution_count": 43,
      "outputs": [
        {
          "output_type": "stream",
          "text": [
            "+-----------+-----------+--------------+----------+--------------+--------------------+----------------+-----------+-------------+-----------+----+-----------------+--------------------+--------------------+-----------+---------------------+-----------------------+----------------+-------------+-----------+--------------------+---------+-------------+--------------------+--------------------+------------+\n",
            "|marketplace|customer_id|     review_id|product_id|product_parent|       product_title|product_category|star_rating|helpful_votes|total_votes|vine|verified_purchase|     review_headline|         review_body|review_date|above_avg_total_votes|above_avg_helpful_votes|above_avg_rating|review_length|good_review|                text|sentiment|pos_sentiment|                text|            entities|num_entities|\n",
            "+-----------+-----------+--------------+----------+--------------+--------------------+----------------+-----------+-------------+-----------+----+-----------------+--------------------+--------------------+-----------+---------------------+-----------------------+----------------+-------------+-----------+--------------------+---------+-------------+--------------------+--------------------+------------+\n",
            "|         US|   18778586| RDIJS7QYB6XNR|B00EDBY7X8|     122952789|Monopoly Junior B...|            Toys|          5|            0|          0|   N|                Y|          Five Stars|        Excellent!!!| 2015-08-31|                    0|                      0|               1|           12|          1|        Excellent!!!|      pos|            1|        Excellent!!!|                  []|           0|\n",
            "|         US|   24769659|R36ED1U38IELG8|B00D7JFOPC|     952062646|56 Pieces of Wood...|            Toys|          5|            0|          0|   N|                Y|Good quality trac...|Great quality woo...| 2015-08-31|                    0|                      0|               1|          265|          1|Great quality woo...|      pos|            1|Great quality woo...|[[chunk, 109, 114...|           1|\n",
            "|         US|   44331596| R1UE3RPRGCOLD|B002LHA74O|     818126353|Super Jumbo Playi...|            Toys|          2|            1|          1|   N|                Y|           Two Stars|Cards are not as ...| 2015-08-31|                    0|                      0|               0|           33|          0|Cards are not as ...|      neg|            0|Cards are not as ...|                  []|           0|\n",
            "|         US|   23310293|R298788GS6I901|B00ARPLCGY|     261944918|Barbie Doll and F...|            Toys|          5|            0|          0|   N|                Y|my daughter loved...|my daughter loved...| 2015-08-31|                    0|                      0|               1|          145|          1|my daughter loved...|      pos|            1|my daughter loved...|[[chunk, 114, 119...|           2|\n",
            "|         US|   38745832|  RNX4EXOBBPN5|B00UZOPOFW|     717410439|Emazing Lights eL...|            Toys|          1|            1|          1|   N|                Y|     DONT BUY THESE!|Do not buy these!...| 2015-08-31|                    0|                      0|               0|          241|          0|Do not buy these!...|      neg|            0|Do not buy these!...|                  []|           0|\n",
            "|         US|   13394189|R3BPETL222LMIM|B009B7F6CA|     873028700|Melissa & Doug Wa...|            Toys|          5|            0|          0|   N|                Y|          Five Stars|Great item. Pictu...| 2015-08-31|                    0|                      0|               1|          105|          1|Great item. Pictu...|      pos|            1|Great item. Pictu...|                  []|           0|\n",
            "|         US|    2749569|R3SORMPJZO3F2J|B0101EHRSM|     723424342|Big Bang Cosmic P...|            Toys|          3|            2|          2|   N|                Y|         Three Stars|To keep together,...| 2015-08-31|                    0|                      0|               0|           41|          0|To keep together,...|      neg|            0|To keep together,...|                  []|           0|\n",
            "|         US|   41137196|R2RDOJQ0WBZCF6|B00407S11Y|     383363775|Fun Express Insec...|            Toys|          5|            0|          0|   N|                Y|          Five Stars|I was pleased wit...| 2015-08-31|                    0|                      0|               1|           31|          1|I was pleased wit...|      pos|            1|I was pleased wit...|                  []|           0|\n",
            "|         US|     433677|R2B8VBEPB4YEZ7|B00FGPU7U2|     780517568|Fisher-Price Octo...|            Toys|          5|            0|          0|   N|                Y|          Five Stars|    Children like it| 2015-08-31|                    0|                      0|               1|           16|          1|    Children like it|      neg|            0|    Children like it|                  []|           0|\n",
            "|         US|    1297934|R1CB783I7B0U52|B0013OY0S0|     269360126|Claw Climber Goli...|            Toys|          1|            0|          1|   N|                Y|Shame on the sell...|Showed up not how...| 2015-08-31|                    0|                      0|               0|           71|          0|Showed up not how...|      neg|            0|Showed up not how...|                  []|           0|\n",
            "|         US|   52006292| R2D90RQQ3V8LH|B00519PJTW|     493486387|100 Foot Multicol...|            Toys|          5|            0|          0|   N|                Y|          Five Stars|Really liked thes...| 2015-08-31|                    0|                      0|               1|           76|          1|Really liked thes...|      pos|            1|Really liked thes...|                  []|           0|\n",
            "|         US|   32071052|R1Y4ZOUGFMJ327|B001TCY2DO|     459122467|Pig Jumbo Foil Ba...|            Toys|          5|            0|          0|   N|                Y|   Nice huge balloon|Nice huge balloon...| 2015-08-31|                    0|                      0|               1|          103|          1|Nice huge balloon...|      neg|            0|Nice huge balloon...|[[chunk, 0, 3, Ni...|           1|\n",
            "|         US|    7360347|R2BUV9QJI2A00X|B00DOQCWF8|     226984155|Minecraft Animal ...|            Toys|          5|            0|          1|   N|                Y|          Five Stars|          Great deal| 2015-08-31|                    0|                      0|               1|           10|          1|          Great deal|      pos|            1|          Great deal|                  []|           0|\n",
            "|         US|   11613707| RSUHRJFJIRB3Z|B004C04I4I|     375659886|Disney Baby: Eeyo...|            Toys|          4|            0|          0|   N|                Y|          Four Stars|       As Advertised| 2015-08-31|                    0|                      0|               0|           13|          1|       As Advertised|      pos|            1|       As Advertised|                  []|           0|\n",
            "|         US|   13545982|R1T96CG98BBA15|B00NWGEKBY|     933734136|Team Losi 8IGHT-E...|            Toys|          3|            2|          4|   N|                Y|... servo so expe...|Comes w a 15$ ser...| 2015-08-31|                    0|                      0|               0|          110|          0|Comes w a 15$ ser...|      pos|            1|Comes w a 15$ ser...|                  []|           0|\n",
            "|         US|   43880421| R2ATXF4QQ30YW|B00000JS5S|     341842639|Hot Wheels 48- Ca...|            Toys|          5|            0|          0|   N|                Y|          Five Stars|   awesome ! Thanks!| 2015-08-31|                    0|                      0|               1|           17|          1|   awesome ! Thanks!|      pos|            1|   awesome ! Thanks!|[[chunk, 10, 16, ...|           1|\n",
            "|         US|    1662075|R1YS3DS218NNMD|B00XPWXYDK|     210135375|ZuZo 2.4GHz 4 CH ...|            Toys|          5|            4|          4|   N|                N|The closest relev...|I got this item f...| 2015-08-31|                    0|                      1|               1|          641|          1|I got this item f...|      pos|            1|I got this item f...|                  []|           0|\n",
            "|         US|   18461411|R2SDXLTLF92O0H|B00VPXX92W|     705054378|Teenage Mutant Ni...|            Toys|          5|            0|          0|   N|                Y|          Five Stars|It was a birthday...| 2015-08-31|                    0|                      0|               1|           59|          1|It was a birthday...|      pos|            1|It was a birthday...|                  []|           0|\n",
            "|         US|   27225859| R4R337CCDWLNG|B00YRA3H4U|     223420727|Franklin Sports M...|            Toys|          3|            0|          1|   Y|                N|Got wrong product...|Got a wrong produ...| 2015-08-31|                    0|                      0|               0|          361|          0|Got a wrong produ...|      neg|            0|Got a wrong produ...|[[chunk, 25, 35, ...|           1|\n",
            "|         US|   20494593|R32Z6UA4S5Q630|B009T8BSQY|     787701676|Alien Frontiers: ...|            Toys|          1|            0|          0|   N|                Y|         Overpriced.|You need expansio...| 2015-08-31|                    0|                      0|               0|          269|          0|You need expansio...|      pos|            1|You need expansio...|[[chunk, 112, 126...|           1|\n",
            "+-----------+-----------+--------------+----------+--------------+--------------------+----------------+-----------+-------------+-----------+----+-----------------+--------------------+--------------------+-----------+---------------------+-----------------------+----------------+-------------+-----------+--------------------+---------+-------------+--------------------+--------------------+------------+\n",
            "only showing top 20 rows\n",
            "\n"
          ],
          "name": "stdout"
        }
      ]
    },
    {
      "cell_type": "code",
      "metadata": {
        "colab": {
          "base_uri": "https://localhost:8080/"
        },
        "id": "vksE6Tlr11BK",
        "outputId": "8d463574-401f-4217-c330-fe7036007dcd"
      },
      "source": [
        ""
      ],
      "execution_count": 44,
      "outputs": [
        {
          "output_type": "stream",
          "text": [
            "+-----------+-----------+--------------+----------+--------------+--------------------+----------------+-----------+-------------+-----------+----+-----------------+--------------------+--------------------+-----------+---------------------+-----------------------+----------------+-------------+-----------+---------+-------------+--------------------+------------+\n",
            "|marketplace|customer_id|     review_id|product_id|product_parent|       product_title|product_category|star_rating|helpful_votes|total_votes|vine|verified_purchase|     review_headline|         review_body|review_date|above_avg_total_votes|above_avg_helpful_votes|above_avg_rating|review_length|good_review|sentiment|pos_sentiment|            entities|num_entities|\n",
            "+-----------+-----------+--------------+----------+--------------+--------------------+----------------+-----------+-------------+-----------+----+-----------------+--------------------+--------------------+-----------+---------------------+-----------------------+----------------+-------------+-----------+---------+-------------+--------------------+------------+\n",
            "|         US|   18778586| RDIJS7QYB6XNR|B00EDBY7X8|     122952789|Monopoly Junior B...|            Toys|          5|            0|          0|   N|                Y|          Five Stars|        Excellent!!!| 2015-08-31|                    0|                      0|               1|           12|          1|      pos|            1|                  []|           0|\n",
            "|         US|   24769659|R36ED1U38IELG8|B00D7JFOPC|     952062646|56 Pieces of Wood...|            Toys|          5|            0|          0|   N|                Y|Good quality trac...|Great quality woo...| 2015-08-31|                    0|                      0|               1|          265|          1|      pos|            1|[[chunk, 109, 114...|           1|\n",
            "|         US|   44331596| R1UE3RPRGCOLD|B002LHA74O|     818126353|Super Jumbo Playi...|            Toys|          2|            1|          1|   N|                Y|           Two Stars|Cards are not as ...| 2015-08-31|                    0|                      0|               0|           33|          0|      neg|            0|                  []|           0|\n",
            "|         US|   23310293|R298788GS6I901|B00ARPLCGY|     261944918|Barbie Doll and F...|            Toys|          5|            0|          0|   N|                Y|my daughter loved...|my daughter loved...| 2015-08-31|                    0|                      0|               1|          145|          1|      pos|            1|[[chunk, 114, 119...|           2|\n",
            "|         US|   38745832|  RNX4EXOBBPN5|B00UZOPOFW|     717410439|Emazing Lights eL...|            Toys|          1|            1|          1|   N|                Y|     DONT BUY THESE!|Do not buy these!...| 2015-08-31|                    0|                      0|               0|          241|          0|      neg|            0|                  []|           0|\n",
            "|         US|   13394189|R3BPETL222LMIM|B009B7F6CA|     873028700|Melissa & Doug Wa...|            Toys|          5|            0|          0|   N|                Y|          Five Stars|Great item. Pictu...| 2015-08-31|                    0|                      0|               1|          105|          1|      pos|            1|                  []|           0|\n",
            "|         US|    2749569|R3SORMPJZO3F2J|B0101EHRSM|     723424342|Big Bang Cosmic P...|            Toys|          3|            2|          2|   N|                Y|         Three Stars|To keep together,...| 2015-08-31|                    0|                      0|               0|           41|          0|      neg|            0|                  []|           0|\n",
            "|         US|   41137196|R2RDOJQ0WBZCF6|B00407S11Y|     383363775|Fun Express Insec...|            Toys|          5|            0|          0|   N|                Y|          Five Stars|I was pleased wit...| 2015-08-31|                    0|                      0|               1|           31|          1|      pos|            1|                  []|           0|\n",
            "|         US|     433677|R2B8VBEPB4YEZ7|B00FGPU7U2|     780517568|Fisher-Price Octo...|            Toys|          5|            0|          0|   N|                Y|          Five Stars|    Children like it| 2015-08-31|                    0|                      0|               1|           16|          1|      neg|            0|                  []|           0|\n",
            "|         US|    1297934|R1CB783I7B0U52|B0013OY0S0|     269360126|Claw Climber Goli...|            Toys|          1|            0|          1|   N|                Y|Shame on the sell...|Showed up not how...| 2015-08-31|                    0|                      0|               0|           71|          0|      neg|            0|                  []|           0|\n",
            "|         US|   52006292| R2D90RQQ3V8LH|B00519PJTW|     493486387|100 Foot Multicol...|            Toys|          5|            0|          0|   N|                Y|          Five Stars|Really liked thes...| 2015-08-31|                    0|                      0|               1|           76|          1|      pos|            1|                  []|           0|\n",
            "|         US|   32071052|R1Y4ZOUGFMJ327|B001TCY2DO|     459122467|Pig Jumbo Foil Ba...|            Toys|          5|            0|          0|   N|                Y|   Nice huge balloon|Nice huge balloon...| 2015-08-31|                    0|                      0|               1|          103|          1|      neg|            0|[[chunk, 0, 3, Ni...|           1|\n",
            "|         US|    7360347|R2BUV9QJI2A00X|B00DOQCWF8|     226984155|Minecraft Animal ...|            Toys|          5|            0|          1|   N|                Y|          Five Stars|          Great deal| 2015-08-31|                    0|                      0|               1|           10|          1|      pos|            1|                  []|           0|\n",
            "|         US|   11613707| RSUHRJFJIRB3Z|B004C04I4I|     375659886|Disney Baby: Eeyo...|            Toys|          4|            0|          0|   N|                Y|          Four Stars|       As Advertised| 2015-08-31|                    0|                      0|               0|           13|          1|      pos|            1|                  []|           0|\n",
            "|         US|   13545982|R1T96CG98BBA15|B00NWGEKBY|     933734136|Team Losi 8IGHT-E...|            Toys|          3|            2|          4|   N|                Y|... servo so expe...|Comes w a 15$ ser...| 2015-08-31|                    0|                      0|               0|          110|          0|      pos|            1|                  []|           0|\n",
            "|         US|   43880421| R2ATXF4QQ30YW|B00000JS5S|     341842639|Hot Wheels 48- Ca...|            Toys|          5|            0|          0|   N|                Y|          Five Stars|   awesome ! Thanks!| 2015-08-31|                    0|                      0|               1|           17|          1|      pos|            1|[[chunk, 10, 16, ...|           1|\n",
            "|         US|    1662075|R1YS3DS218NNMD|B00XPWXYDK|     210135375|ZuZo 2.4GHz 4 CH ...|            Toys|          5|            4|          4|   N|                N|The closest relev...|I got this item f...| 2015-08-31|                    0|                      1|               1|          641|          1|      pos|            1|                  []|           0|\n",
            "|         US|   18461411|R2SDXLTLF92O0H|B00VPXX92W|     705054378|Teenage Mutant Ni...|            Toys|          5|            0|          0|   N|                Y|          Five Stars|It was a birthday...| 2015-08-31|                    0|                      0|               1|           59|          1|      pos|            1|                  []|           0|\n",
            "|         US|   27225859| R4R337CCDWLNG|B00YRA3H4U|     223420727|Franklin Sports M...|            Toys|          3|            0|          1|   Y|                N|Got wrong product...|Got a wrong produ...| 2015-08-31|                    0|                      0|               0|          361|          0|      neg|            0|[[chunk, 25, 35, ...|           1|\n",
            "|         US|   20494593|R32Z6UA4S5Q630|B009T8BSQY|     787701676|Alien Frontiers: ...|            Toys|          1|            0|          0|   N|                Y|         Overpriced.|You need expansio...| 2015-08-31|                    0|                      0|               0|          269|          0|      pos|            1|[[chunk, 112, 126...|           1|\n",
            "+-----------+-----------+--------------+----------+--------------+--------------------+----------------+-----------+-------------+-----------+----+-----------------+--------------------+--------------------+-----------+---------------------+-----------------------+----------------+-------------+-----------+---------+-------------+--------------------+------------+\n",
            "only showing top 20 rows\n",
            "\n"
          ],
          "name": "stdout"
        }
      ]
    },
    {
      "cell_type": "code",
      "metadata": {
        "colab": {
          "base_uri": "https://localhost:8080/"
        },
        "id": "Hu5jEDd4VmRf",
        "outputId": "5f422e42-87dd-4a6d-eac1-adb94f72e09e"
      },
      "source": [
        "data.show() #.groupBy('product_category').count().show()"
      ],
      "execution_count": 36,
      "outputs": [
        {
          "output_type": "stream",
          "text": [
            "+-----------+-----------+--------------+----------+--------------+--------------------+----------------+-----------+-------------+-----------+----+-----------------+--------------------+--------------------+-----------+---------------------+-----------------------+----------------+-------------+\n",
            "|marketplace|customer_id|     review_id|product_id|product_parent|       product_title|product_category|star_rating|helpful_votes|total_votes|vine|verified_purchase|     review_headline|         review_body|review_date|above_avg_total_votes|above_avg_helpful_votes|above_avg_rating|review_length|\n",
            "+-----------+-----------+--------------+----------+--------------+--------------------+----------------+-----------+-------------+-----------+----+-----------------+--------------------+--------------------+-----------+---------------------+-----------------------+----------------+-------------+\n",
            "|         US|   18778586| RDIJS7QYB6XNR|B00EDBY7X8|     122952789|Monopoly Junior B...|            Toys|          5|            5|          5|   N|                Y|          Five Stars|        Excellent!!!| 2015-08-31|                    0|                      1|               1|           12|\n",
            "|         US|   24769659|R36ED1U38IELG8|B00D7JFOPC|     952062646|56 Pieces of Wood...|            Toys|          5|            5|          5|   N|                Y|Good quality trac...|Great quality woo...| 2015-08-31|                    0|                      1|               1|          265|\n",
            "|         US|   44331596| R1UE3RPRGCOLD|B002LHA74O|     818126353|Super Jumbo Playi...|            Toys|          2|            2|          2|   N|                Y|           Two Stars|Cards are not as ...| 2015-08-31|                    0|                      0|               0|           33|\n",
            "|         US|   23310293|R298788GS6I901|B00ARPLCGY|     261944918|Barbie Doll and F...|            Toys|          5|            5|          5|   N|                Y|my daughter loved...|my daughter loved...| 2015-08-31|                    0|                      1|               1|          145|\n",
            "|         US|   38745832|  RNX4EXOBBPN5|B00UZOPOFW|     717410439|Emazing Lights eL...|            Toys|          1|            1|          1|   N|                Y|     DONT BUY THESE!|Do not buy these!...| 2015-08-31|                    0|                      0|               0|          241|\n",
            "|         US|   13394189|R3BPETL222LMIM|B009B7F6CA|     873028700|Melissa & Doug Wa...|            Toys|          5|            5|          5|   N|                Y|          Five Stars|Great item. Pictu...| 2015-08-31|                    0|                      1|               1|          105|\n",
            "|         US|    2749569|R3SORMPJZO3F2J|B0101EHRSM|     723424342|Big Bang Cosmic P...|            Toys|          3|            3|          3|   N|                Y|         Three Stars|To keep together,...| 2015-08-31|                    0|                      0|               0|           41|\n",
            "|         US|   41137196|R2RDOJQ0WBZCF6|B00407S11Y|     383363775|Fun Express Insec...|            Toys|          5|            5|          5|   N|                Y|          Five Stars|I was pleased wit...| 2015-08-31|                    0|                      1|               1|           31|\n",
            "|         US|     433677|R2B8VBEPB4YEZ7|B00FGPU7U2|     780517568|Fisher-Price Octo...|            Toys|          5|            5|          5|   N|                Y|          Five Stars|    Children like it| 2015-08-31|                    0|                      1|               1|           16|\n",
            "|         US|    1297934|R1CB783I7B0U52|B0013OY0S0|     269360126|Claw Climber Goli...|            Toys|          1|            1|          1|   N|                Y|Shame on the sell...|Showed up not how...| 2015-08-31|                    0|                      0|               0|           71|\n",
            "|         US|   52006292| R2D90RQQ3V8LH|B00519PJTW|     493486387|100 Foot Multicol...|            Toys|          5|            5|          5|   N|                Y|          Five Stars|Really liked thes...| 2015-08-31|                    0|                      1|               1|           76|\n",
            "|         US|   32071052|R1Y4ZOUGFMJ327|B001TCY2DO|     459122467|Pig Jumbo Foil Ba...|            Toys|          5|            5|          5|   N|                Y|   Nice huge balloon|Nice huge balloon...| 2015-08-31|                    0|                      1|               1|          103|\n",
            "|         US|    7360347|R2BUV9QJI2A00X|B00DOQCWF8|     226984155|Minecraft Animal ...|            Toys|          5|            5|          5|   N|                Y|          Five Stars|          Great deal| 2015-08-31|                    0|                      1|               1|           10|\n",
            "|         US|   11613707| RSUHRJFJIRB3Z|B004C04I4I|     375659886|Disney Baby: Eeyo...|            Toys|          4|            4|          4|   N|                Y|          Four Stars|       As Advertised| 2015-08-31|                    0|                      1|               0|           13|\n",
            "|         US|   13545982|R1T96CG98BBA15|B00NWGEKBY|     933734136|Team Losi 8IGHT-E...|            Toys|          3|            3|          3|   N|                Y|... servo so expe...|Comes w a 15$ ser...| 2015-08-31|                    0|                      0|               0|          110|\n",
            "|         US|   43880421| R2ATXF4QQ30YW|B00000JS5S|     341842639|Hot Wheels 48- Ca...|            Toys|          5|            5|          5|   N|                Y|          Five Stars|   awesome ! Thanks!| 2015-08-31|                    0|                      1|               1|           17|\n",
            "|         US|    1662075|R1YS3DS218NNMD|B00XPWXYDK|     210135375|ZuZo 2.4GHz 4 CH ...|            Toys|          5|            5|          5|   N|                N|The closest relev...|I got this item f...| 2015-08-31|                    0|                      1|               1|          641|\n",
            "|         US|   18461411|R2SDXLTLF92O0H|B00VPXX92W|     705054378|Teenage Mutant Ni...|            Toys|          5|            5|          5|   N|                Y|          Five Stars|It was a birthday...| 2015-08-31|                    0|                      1|               1|           59|\n",
            "|         US|   27225859| R4R337CCDWLNG|B00YRA3H4U|     223420727|Franklin Sports M...|            Toys|          3|            3|          3|   Y|                N|Got wrong product...|Got a wrong produ...| 2015-08-31|                    0|                      0|               0|          361|\n",
            "|         US|   20494593|R32Z6UA4S5Q630|B009T8BSQY|     787701676|Alien Frontiers: ...|            Toys|          1|            1|          1|   N|                Y|         Overpriced.|You need expansio...| 2015-08-31|                    0|                      0|               0|          269|\n",
            "+-----------+-----------+--------------+----------+--------------+--------------------+----------------+-----------+-------------+-----------+----+-----------------+--------------------+--------------------+-----------+---------------------+-----------------------+----------------+-------------+\n",
            "only showing top 20 rows\n",
            "\n"
          ],
          "name": "stdout"
        }
      ]
    },
    {
      "cell_type": "markdown",
      "metadata": {
        "id": "2nwuJqPs4tsM"
      },
      "source": [
        "## 3b. Organize Transformers into Pipeline"
      ]
    },
    {
      "cell_type": "code",
      "metadata": {
        "colab": {
          "base_uri": "https://localhost:8080/",
          "height": 300
        },
        "id": "pw69vBwwY0WZ",
        "outputId": "9365c82a-d71e-43b3-efd6-333ff1f91bf6"
      },
      "source": [
        "'''\n",
        "# This is the pipeline format I found online ... but is difficult to work with - for now I'll make a function\n",
        "sentimentdl = PretrainedPipeline('analyze_sentimentdl_glove_imdb', 'en').setInputCols([\"review_body\"]).setOutputCol(\"sentiment\")\n",
        "\n",
        "nlpPipeline = Pipeline(\n",
        "      stages = [\n",
        "          sentimentdl\n",
        "      ])\n",
        "\n",
        "empty_df = spark.createDataFrame([['']]).toDF(\"text\")\n",
        "\n",
        "pipelineModel = nlpPipeline.fit(empty_df)\n",
        "\n",
        "df = spark.createDataFrame(pd.DataFrame({\"text\":data.review_body}))\n",
        "result = pipelineModel.transform(df)\n",
        "\n",
        "result.show()\n",
        "'''"
      ],
      "execution_count": 51,
      "outputs": [
        {
          "output_type": "stream",
          "text": [
            "analyze_sentimentdl_glove_imdb download started this may take some time.\n",
            "Approx size to download 155.3 MB\n",
            "[OK!]\n"
          ],
          "name": "stdout"
        },
        {
          "output_type": "error",
          "ename": "AttributeError",
          "evalue": "ignored",
          "traceback": [
            "\u001b[0;31m---------------------------------------------------------------------------\u001b[0m",
            "\u001b[0;31mAttributeError\u001b[0m                            Traceback (most recent call last)",
            "\u001b[0;32m<ipython-input-51-3a6b2de5b4ab>\u001b[0m in \u001b[0;36m<module>\u001b[0;34m()\u001b[0m\n\u001b[0;32m----> 1\u001b[0;31m \u001b[0msentimentdl\u001b[0m \u001b[0;34m=\u001b[0m \u001b[0mPretrainedPipeline\u001b[0m\u001b[0;34m(\u001b[0m\u001b[0;34m'analyze_sentimentdl_glove_imdb'\u001b[0m\u001b[0;34m,\u001b[0m \u001b[0;34m'en'\u001b[0m\u001b[0;34m)\u001b[0m\u001b[0;34m.\u001b[0m\u001b[0msetInputCols\u001b[0m\u001b[0;34m(\u001b[0m\u001b[0;34m[\u001b[0m\u001b[0;34m\"review_body\"\u001b[0m\u001b[0;34m]\u001b[0m\u001b[0;34m)\u001b[0m\u001b[0;34m.\u001b[0m\u001b[0msetOutputCol\u001b[0m\u001b[0;34m(\u001b[0m\u001b[0;34m\"sentiment\"\u001b[0m\u001b[0;34m)\u001b[0m\u001b[0;34m\u001b[0m\u001b[0;34m\u001b[0m\u001b[0m\n\u001b[0m\u001b[1;32m      2\u001b[0m \u001b[0;34m\u001b[0m\u001b[0m\n\u001b[1;32m      3\u001b[0m nlpPipeline = Pipeline(\n\u001b[1;32m      4\u001b[0m       stages = [\n\u001b[1;32m      5\u001b[0m           \u001b[0msentimentdl\u001b[0m\u001b[0;34m\u001b[0m\u001b[0;34m\u001b[0m\u001b[0m\n",
            "\u001b[0;31mAttributeError\u001b[0m: 'PretrainedPipeline' object has no attribute 'setInputCols'"
          ]
        }
      ]
    },
    {
      "cell_type": "code",
      "metadata": {
        "id": "ymsOT-Ia5eG4"
      },
      "source": [
        "from pyspark.sql import functions as f"
      ],
      "execution_count": 13,
      "outputs": []
    },
    {
      "cell_type": "code",
      "metadata": {
        "id": "ZaGoJ81G2zdW"
      },
      "source": [
        "def features_pipeline(data_df, text_col, non_text_features=True, sentiment=True, entities=True):\n",
        "  ''' this can now be called on a pyspark dataframe and will add the respective features'''\n",
        "  pipeline_ent = PretrainedPipeline('recognize_entities_dl', 'en')\n",
        "  text_col = data_df.select(f.col(text_col).alias(\"text\"))\n",
        "\n",
        "  if non_text_features == True:\n",
        "    data_df = data_df.withColumn('above_avg_total_votes', (data_df.total_votes > 5.33).cast('integer'))\n",
        "    data_df = data_df.withColumn('above_avg_helpful_votes', (data_df.helpful_votes > 3.84).cast('integer'))\n",
        "    data_df = data_df.withColumn('review_length', length(col('review_body')))\n",
        "    full_data = data_df\n",
        "\n",
        "\n",
        "  if sentiment == True:\n",
        "    pipeline = PretrainedPipeline('analyze_sentimentdl_glove_imdb', 'en')\n",
        "    # analyze sentiment\n",
        "    sntmt = pipeline.transform(text_col)\n",
        "    df_sntmnt = sntmt.selectExpr([\"text\", \"sentiment[0].result\"])\n",
        "    #extract just the output of the sentiment result into its own column \n",
        "    df_sntmnt =df_sntmnt.withColumnRenamed(\"sentiment[0].result\", \"sentiment\")\n",
        "    df_sntmnt = df_sntmnt.withColumn(\"pos_sentiment\",\n",
        "                              f.when((f.col(\"sentiment\") == \"pos\"), 1).otherwise(0))\n",
        "    #join that column onto original DF\n",
        "    full_data = data_df.join(df_sntmnt, data_df.review_body == df_sntmnt.text, how = \"inner\")\n",
        "    full_data = full_data.drop('text')\n",
        "\n",
        "  if entities == True:\n",
        "    # analyze entities\n",
        "    entities_col = pipeline_ent.transform(text_col)\n",
        "    entities_df = entities_col.withColumn('num_entities', size(col('entities.result')))\n",
        "    def_ents = entities_df.select('text','entities', 'num_entities')\n",
        "    #join that column onto original DF\n",
        "    full_data = full_data.join(def_ents, full_data.review_body == def_ents.text, how = \"inner\")\n",
        "    full_data = full_data.drop('text')\n",
        "  \n",
        "  return full_data"
      ],
      "execution_count": 14,
      "outputs": []
    },
    {
      "cell_type": "code",
      "metadata": {
        "colab": {
          "base_uri": "https://localhost:8080/"
        },
        "id": "lZV0A0vy4iM3",
        "outputId": "1779e43e-1615-4043-95cc-d531f9f2d999"
      },
      "source": [
        "output_df = features_pipeline(data, \"review_body\")"
      ],
      "execution_count": 15,
      "outputs": [
        {
          "output_type": "stream",
          "text": [
            "recognize_entities_dl download started this may take some time.\n",
            "Approx size to download 160.1 MB\n",
            "[OK!]\n",
            "analyze_sentimentdl_glove_imdb download started this may take some time.\n",
            "Approx size to download 155.3 MB\n",
            "[OK!]\n"
          ],
          "name": "stdout"
        }
      ]
    },
    {
      "cell_type": "code",
      "metadata": {
        "colab": {
          "base_uri": "https://localhost:8080/"
        },
        "id": "nHSMeUZL5n_m",
        "outputId": "ce5ddfb1-96ec-4296-fca7-e6c5e5cc1c3b"
      },
      "source": [
        "output_df.show()"
      ],
      "execution_count": 16,
      "outputs": [
        {
          "output_type": "stream",
          "text": [
            "+-----------+-----------+--------------+----------+--------------+--------------------+----------------+-----------+-------------+-----------+----+-----------------+--------------------+--------------------+-----------+-----------+---------------------+-----------------------+-------------+---------+-------------+--------------------+------------+\n",
            "|marketplace|customer_id|     review_id|product_id|product_parent|       product_title|product_category|star_rating|helpful_votes|total_votes|vine|verified_purchase|     review_headline|         review_body|review_date|good_review|above_avg_total_votes|above_avg_helpful_votes|review_length|sentiment|pos_sentiment|            entities|num_entities|\n",
            "+-----------+-----------+--------------+----------+--------------+--------------------+----------------+-----------+-------------+-----------+----+-----------------+--------------------+--------------------+-----------+-----------+---------------------+-----------------------+-------------+---------+-------------+--------------------+------------+\n",
            "|         US|   18778586| RDIJS7QYB6XNR|B00EDBY7X8|     122952789|Monopoly Junior B...|            Toys|          5|            0|          0|   N|                Y|          Five Stars|        Excellent!!!| 2015-08-31|          1|                    0|                      0|           12|      pos|            1|                  []|           0|\n",
            "|         US|   24769659|R36ED1U38IELG8|B00D7JFOPC|     952062646|56 Pieces of Wood...|            Toys|          5|            0|          0|   N|                Y|Good quality trac...|Great quality woo...| 2015-08-31|          1|                    0|                      0|          265|      pos|            1|[[chunk, 109, 114...|           1|\n",
            "|         US|   44331596| R1UE3RPRGCOLD|B002LHA74O|     818126353|Super Jumbo Playi...|            Toys|          2|            1|          1|   N|                Y|           Two Stars|Cards are not as ...| 2015-08-31|          0|                    0|                      0|           33|      neg|            0|                  []|           0|\n",
            "|         US|   23310293|R298788GS6I901|B00ARPLCGY|     261944918|Barbie Doll and F...|            Toys|          5|            0|          0|   N|                Y|my daughter loved...|my daughter loved...| 2015-08-31|          1|                    0|                      0|          145|      pos|            1|[[chunk, 114, 119...|           2|\n",
            "|         US|   38745832|  RNX4EXOBBPN5|B00UZOPOFW|     717410439|Emazing Lights eL...|            Toys|          1|            1|          1|   N|                Y|     DONT BUY THESE!|Do not buy these!...| 2015-08-31|          0|                    0|                      0|          241|      neg|            0|                  []|           0|\n",
            "|         US|   13394189|R3BPETL222LMIM|B009B7F6CA|     873028700|Melissa & Doug Wa...|            Toys|          5|            0|          0|   N|                Y|          Five Stars|Great item. Pictu...| 2015-08-31|          1|                    0|                      0|          105|      pos|            1|                  []|           0|\n",
            "|         US|    2749569|R3SORMPJZO3F2J|B0101EHRSM|     723424342|Big Bang Cosmic P...|            Toys|          3|            2|          2|   N|                Y|         Three Stars|To keep together,...| 2015-08-31|          0|                    0|                      0|           41|      neg|            0|                  []|           0|\n",
            "|         US|   41137196|R2RDOJQ0WBZCF6|B00407S11Y|     383363775|Fun Express Insec...|            Toys|          5|            0|          0|   N|                Y|          Five Stars|I was pleased wit...| 2015-08-31|          1|                    0|                      0|           31|      pos|            1|                  []|           0|\n",
            "|         US|     433677|R2B8VBEPB4YEZ7|B00FGPU7U2|     780517568|Fisher-Price Octo...|            Toys|          5|            0|          0|   N|                Y|          Five Stars|    Children like it| 2015-08-31|          1|                    0|                      0|           16|      neg|            0|                  []|           0|\n",
            "|         US|    1297934|R1CB783I7B0U52|B0013OY0S0|     269360126|Claw Climber Goli...|            Toys|          1|            0|          1|   N|                Y|Shame on the sell...|Showed up not how...| 2015-08-31|          0|                    0|                      0|           71|      neg|            0|                  []|           0|\n",
            "|         US|   52006292| R2D90RQQ3V8LH|B00519PJTW|     493486387|100 Foot Multicol...|            Toys|          5|            0|          0|   N|                Y|          Five Stars|Really liked thes...| 2015-08-31|          1|                    0|                      0|           76|      pos|            1|                  []|           0|\n",
            "|         US|   32071052|R1Y4ZOUGFMJ327|B001TCY2DO|     459122467|Pig Jumbo Foil Ba...|            Toys|          5|            0|          0|   N|                Y|   Nice huge balloon|Nice huge balloon...| 2015-08-31|          1|                    0|                      0|          103|      neg|            0|[[chunk, 0, 3, Ni...|           1|\n",
            "|         US|    7360347|R2BUV9QJI2A00X|B00DOQCWF8|     226984155|Minecraft Animal ...|            Toys|          5|            0|          1|   N|                Y|          Five Stars|          Great deal| 2015-08-31|          1|                    0|                      0|           10|      pos|            1|                  []|           0|\n",
            "|         US|   11613707| RSUHRJFJIRB3Z|B004C04I4I|     375659886|Disney Baby: Eeyo...|            Toys|          4|            0|          0|   N|                Y|          Four Stars|       As Advertised| 2015-08-31|          1|                    0|                      0|           13|      pos|            1|                  []|           0|\n",
            "|         US|   13545982|R1T96CG98BBA15|B00NWGEKBY|     933734136|Team Losi 8IGHT-E...|            Toys|          3|            2|          4|   N|                Y|... servo so expe...|Comes w a 15$ ser...| 2015-08-31|          0|                    0|                      0|          110|      pos|            1|                  []|           0|\n",
            "|         US|   43880421| R2ATXF4QQ30YW|B00000JS5S|     341842639|Hot Wheels 48- Ca...|            Toys|          5|            0|          0|   N|                Y|          Five Stars|   awesome ! Thanks!| 2015-08-31|          1|                    0|                      0|           17|      pos|            1|[[chunk, 10, 16, ...|           1|\n",
            "|         US|    1662075|R1YS3DS218NNMD|B00XPWXYDK|     210135375|ZuZo 2.4GHz 4 CH ...|            Toys|          5|            4|          4|   N|                N|The closest relev...|I got this item f...| 2015-08-31|          1|                    0|                      1|          641|      pos|            1|                  []|           0|\n",
            "|         US|   18461411|R2SDXLTLF92O0H|B00VPXX92W|     705054378|Teenage Mutant Ni...|            Toys|          5|            0|          0|   N|                Y|          Five Stars|It was a birthday...| 2015-08-31|          1|                    0|                      0|           59|      pos|            1|                  []|           0|\n",
            "|         US|   27225859| R4R337CCDWLNG|B00YRA3H4U|     223420727|Franklin Sports M...|            Toys|          3|            0|          1|   Y|                N|Got wrong product...|Got a wrong produ...| 2015-08-31|          0|                    0|                      0|          361|      neg|            0|[[chunk, 25, 35, ...|           1|\n",
            "|         US|   20494593|R32Z6UA4S5Q630|B009T8BSQY|     787701676|Alien Frontiers: ...|            Toys|          1|            0|          0|   N|                Y|         Overpriced.|You need expansio...| 2015-08-31|          0|                    0|                      0|          269|      pos|            1|[[chunk, 112, 126...|           1|\n",
            "+-----------+-----------+--------------+----------+--------------+--------------------+----------------+-----------+-------------+-----------+----+-----------------+--------------------+--------------------+-----------+-----------+---------------------+-----------------------+-------------+---------+-------------+--------------------+------------+\n",
            "only showing top 20 rows\n",
            "\n"
          ],
          "name": "stdout"
        }
      ]
    },
    {
      "cell_type": "markdown",
      "metadata": {
        "id": "Uw-nj6GG6yli"
      },
      "source": [
        "## 4 Finding Optimal Model Parameters\n",
        "unfortunately I am still having issues with EMR (no word from AWS Education - although I followed up again on Friday)\n",
        "Since this is so small I will run it here on the Colab"
      ]
    },
    {
      "cell_type": "code",
      "metadata": {
        "id": "iArS1zmg8X8A"
      },
      "source": [
        "import numpy as np \n",
        "from pyspark.ml.feature import VectorAssembler\n",
        "from pyspark.ml.classification import LogisticRegression\n",
        "from pyspark.ml.tuning import CrossValidator, ParamGridBuilder\n",
        "\n",
        "from pyspark.ml import Pipeline, PipelineModel\n",
        "\n",
        "from pyspark.ml.evaluation import BinaryClassificationEvaluator\n",
        "from pyspark.mllib.evaluation import BinaryClassificationMetrics\n"
      ],
      "execution_count": 64,
      "outputs": []
    },
    {
      "cell_type": "code",
      "metadata": {
        "colab": {
          "base_uri": "https://localhost:8080/"
        },
        "id": "RlGUa_fy7Pdv",
        "outputId": "b6d0eebc-ccd6-414b-c569-6f977af0bd0c"
      },
      "source": [
        "full_data.show()"
      ],
      "execution_count": 54,
      "outputs": [
        {
          "output_type": "stream",
          "text": [
            "+-----------+-----------+--------------+----------+--------------+--------------------+----------------+-----------+-------------+-----------+----+-----------------+--------------------+--------------------+-----------+---------------------+-----------------------+----------------+-------------+-----------+---------+-------------+--------------------+------------+\n",
            "|marketplace|customer_id|     review_id|product_id|product_parent|       product_title|product_category|star_rating|helpful_votes|total_votes|vine|verified_purchase|     review_headline|         review_body|review_date|above_avg_total_votes|above_avg_helpful_votes|above_avg_rating|review_length|good_review|sentiment|pos_sentiment|            entities|num_entities|\n",
            "+-----------+-----------+--------------+----------+--------------+--------------------+----------------+-----------+-------------+-----------+----+-----------------+--------------------+--------------------+-----------+---------------------+-----------------------+----------------+-------------+-----------+---------+-------------+--------------------+------------+\n",
            "|         US|   18778586| RDIJS7QYB6XNR|B00EDBY7X8|     122952789|Monopoly Junior B...|            Toys|          5|            0|          0|   N|                Y|          Five Stars|        Excellent!!!| 2015-08-31|                    0|                      0|               1|           12|          1|      pos|            1|                  []|           0|\n",
            "|         US|   24769659|R36ED1U38IELG8|B00D7JFOPC|     952062646|56 Pieces of Wood...|            Toys|          5|            0|          0|   N|                Y|Good quality trac...|Great quality woo...| 2015-08-31|                    0|                      0|               1|          265|          1|      pos|            1|[[chunk, 109, 114...|           1|\n",
            "|         US|   44331596| R1UE3RPRGCOLD|B002LHA74O|     818126353|Super Jumbo Playi...|            Toys|          2|            1|          1|   N|                Y|           Two Stars|Cards are not as ...| 2015-08-31|                    0|                      0|               0|           33|          0|      neg|            0|                  []|           0|\n",
            "|         US|   23310293|R298788GS6I901|B00ARPLCGY|     261944918|Barbie Doll and F...|            Toys|          5|            0|          0|   N|                Y|my daughter loved...|my daughter loved...| 2015-08-31|                    0|                      0|               1|          145|          1|      pos|            1|[[chunk, 114, 119...|           2|\n",
            "|         US|   38745832|  RNX4EXOBBPN5|B00UZOPOFW|     717410439|Emazing Lights eL...|            Toys|          1|            1|          1|   N|                Y|     DONT BUY THESE!|Do not buy these!...| 2015-08-31|                    0|                      0|               0|          241|          0|      neg|            0|                  []|           0|\n",
            "|         US|   13394189|R3BPETL222LMIM|B009B7F6CA|     873028700|Melissa & Doug Wa...|            Toys|          5|            0|          0|   N|                Y|          Five Stars|Great item. Pictu...| 2015-08-31|                    0|                      0|               1|          105|          1|      pos|            1|                  []|           0|\n",
            "|         US|    2749569|R3SORMPJZO3F2J|B0101EHRSM|     723424342|Big Bang Cosmic P...|            Toys|          3|            2|          2|   N|                Y|         Three Stars|To keep together,...| 2015-08-31|                    0|                      0|               0|           41|          0|      neg|            0|                  []|           0|\n",
            "|         US|   41137196|R2RDOJQ0WBZCF6|B00407S11Y|     383363775|Fun Express Insec...|            Toys|          5|            0|          0|   N|                Y|          Five Stars|I was pleased wit...| 2015-08-31|                    0|                      0|               1|           31|          1|      pos|            1|                  []|           0|\n",
            "|         US|     433677|R2B8VBEPB4YEZ7|B00FGPU7U2|     780517568|Fisher-Price Octo...|            Toys|          5|            0|          0|   N|                Y|          Five Stars|    Children like it| 2015-08-31|                    0|                      0|               1|           16|          1|      neg|            0|                  []|           0|\n",
            "|         US|    1297934|R1CB783I7B0U52|B0013OY0S0|     269360126|Claw Climber Goli...|            Toys|          1|            0|          1|   N|                Y|Shame on the sell...|Showed up not how...| 2015-08-31|                    0|                      0|               0|           71|          0|      neg|            0|                  []|           0|\n",
            "|         US|   52006292| R2D90RQQ3V8LH|B00519PJTW|     493486387|100 Foot Multicol...|            Toys|          5|            0|          0|   N|                Y|          Five Stars|Really liked thes...| 2015-08-31|                    0|                      0|               1|           76|          1|      pos|            1|                  []|           0|\n",
            "|         US|   32071052|R1Y4ZOUGFMJ327|B001TCY2DO|     459122467|Pig Jumbo Foil Ba...|            Toys|          5|            0|          0|   N|                Y|   Nice huge balloon|Nice huge balloon...| 2015-08-31|                    0|                      0|               1|          103|          1|      neg|            0|[[chunk, 0, 3, Ni...|           1|\n",
            "|         US|    7360347|R2BUV9QJI2A00X|B00DOQCWF8|     226984155|Minecraft Animal ...|            Toys|          5|            0|          1|   N|                Y|          Five Stars|          Great deal| 2015-08-31|                    0|                      0|               1|           10|          1|      pos|            1|                  []|           0|\n",
            "|         US|   11613707| RSUHRJFJIRB3Z|B004C04I4I|     375659886|Disney Baby: Eeyo...|            Toys|          4|            0|          0|   N|                Y|          Four Stars|       As Advertised| 2015-08-31|                    0|                      0|               0|           13|          1|      pos|            1|                  []|           0|\n",
            "|         US|   13545982|R1T96CG98BBA15|B00NWGEKBY|     933734136|Team Losi 8IGHT-E...|            Toys|          3|            2|          4|   N|                Y|... servo so expe...|Comes w a 15$ ser...| 2015-08-31|                    0|                      0|               0|          110|          0|      pos|            1|                  []|           0|\n",
            "|         US|   43880421| R2ATXF4QQ30YW|B00000JS5S|     341842639|Hot Wheels 48- Ca...|            Toys|          5|            0|          0|   N|                Y|          Five Stars|   awesome ! Thanks!| 2015-08-31|                    0|                      0|               1|           17|          1|      pos|            1|[[chunk, 10, 16, ...|           1|\n",
            "|         US|    1662075|R1YS3DS218NNMD|B00XPWXYDK|     210135375|ZuZo 2.4GHz 4 CH ...|            Toys|          5|            4|          4|   N|                N|The closest relev...|I got this item f...| 2015-08-31|                    0|                      1|               1|          641|          1|      pos|            1|                  []|           0|\n",
            "|         US|   18461411|R2SDXLTLF92O0H|B00VPXX92W|     705054378|Teenage Mutant Ni...|            Toys|          5|            0|          0|   N|                Y|          Five Stars|It was a birthday...| 2015-08-31|                    0|                      0|               1|           59|          1|      pos|            1|                  []|           0|\n",
            "|         US|   27225859| R4R337CCDWLNG|B00YRA3H4U|     223420727|Franklin Sports M...|            Toys|          3|            0|          1|   Y|                N|Got wrong product...|Got a wrong produ...| 2015-08-31|                    0|                      0|               0|          361|          0|      neg|            0|[[chunk, 25, 35, ...|           1|\n",
            "|         US|   20494593|R32Z6UA4S5Q630|B009T8BSQY|     787701676|Alien Frontiers: ...|            Toys|          1|            0|          0|   N|                Y|         Overpriced.|You need expansio...| 2015-08-31|                    0|                      0|               0|          269|          0|      pos|            1|[[chunk, 112, 126...|           1|\n",
            "+-----------+-----------+--------------+----------+--------------+--------------------+----------------+-----------+-------------+-----------+----+-----------------+--------------------+--------------------+-----------+---------------------+-----------------------+----------------+-------------+-----------+---------+-------------+--------------------+------------+\n",
            "only showing top 20 rows\n",
            "\n"
          ],
          "name": "stdout"
        }
      ]
    },
    {
      "cell_type": "code",
      "metadata": {
        "id": "up1ZQVhO8Bi7"
      },
      "source": [
        "features = ['above_avg_total_votes', 'above_avg_helpful_votes', 'review_length', 'pos_sentiment', 'num_entities']"
      ],
      "execution_count": 62,
      "outputs": []
    },
    {
      "cell_type": "code",
      "metadata": {
        "id": "0ROFR4jo8Bqg"
      },
      "source": [
        "assembler = VectorAssembler(inputCols = features, outputCol = 'features', handleInvalid=\"keep\")\n",
        "new_df = assembler.transform(full_data)"
      ],
      "execution_count": 69,
      "outputs": []
    },
    {
      "cell_type": "code",
      "metadata": {
        "id": "0XTvQcPl7Hsw"
      },
      "source": [
        "#create training/test set \n",
        "train = new_df.sample(fraction = 0.7, seed = 0)\n",
        "test = new_df.join(train, on = \"review_id\", how = \"left_anti\")"
      ],
      "execution_count": 70,
      "outputs": []
    },
    {
      "cell_type": "code",
      "metadata": {
        "id": "Zc-oUAes7-BE"
      },
      "source": [
        "lr = LogisticRegression(featuresCol='features', labelCol='good_review')"
      ],
      "execution_count": 71,
      "outputs": []
    },
    {
      "cell_type": "code",
      "metadata": {
        "colab": {
          "base_uri": "https://localhost:8080/"
        },
        "id": "VkxFDSHW9DQ8",
        "outputId": "cd195a98-3e97-4ccf-a124-6083efd27b27"
      },
      "source": [
        "model = lr.fit(train)\n",
        "# Training Summary Data\n",
        "trainSummary = model.summary\n",
        "evalSummary = model.evaluate(test)\n",
        "\n",
        "print(\"Training AUC: \" + str(trainSummary.areaUnderROC))\n",
        "print(\"Test AUC: \", str(evalSummary.areaUnderROC))"
      ],
      "execution_count": 72,
      "outputs": [
        {
          "output_type": "stream",
          "text": [
            "Training AUC: 0.9666666666666667\n",
            "Test AUC:  0.7575757575757576\n"
          ],
          "name": "stdout"
        }
      ]
    },
    {
      "cell_type": "code",
      "metadata": {
        "id": "ZSSef7yg9Wst"
      },
      "source": [
        "cv_train = train.selectExpr([\"features\", \"good_review\"])"
      ],
      "execution_count": 74,
      "outputs": []
    },
    {
      "cell_type": "code",
      "metadata": {
        "id": "VXZ8nqrr9gle"
      },
      "source": [
        "cv_train =cv_train.withColumnRenamed(\"good_review\", \"label\")"
      ],
      "execution_count": 75,
      "outputs": []
    },
    {
      "cell_type": "code",
      "metadata": {
        "id": "NpqnrngA9goc"
      },
      "source": [
        "cv_test = test.selectExpr([\"features\", \"good_review\"])"
      ],
      "execution_count": 76,
      "outputs": []
    },
    {
      "cell_type": "code",
      "metadata": {
        "id": "MLvatjCM9gsa"
      },
      "source": [
        "cv_test =cv_test.withColumnRenamed(\"good_review\", \"label\")"
      ],
      "execution_count": 77,
      "outputs": []
    },
    {
      "cell_type": "markdown",
      "metadata": {
        "id": "UBE_lLSL9lA1"
      },
      "source": [
        "## Cross Validation"
      ]
    },
    {
      "cell_type": "code",
      "metadata": {
        "id": "c2qQHcqK9nZk"
      },
      "source": [
        "lr2 = LogisticRegression(maxIter=10)\n",
        "\n",
        "paramGrid = ParamGridBuilder() \\\n",
        "    .addGrid(lr2.regParam, np.arange(0, 0.1, 0.01)) \\\n",
        "    .addGrid(lr2.elasticNetParam, [0, 1])\\\n",
        "    .build()\n",
        "\n",
        "crossval = CrossValidator(estimator=lr2,\n",
        "                          estimatorParamMaps=paramGrid,\n",
        "                          evaluator=BinaryClassificationEvaluator(),\n",
        "                          numFolds=5)  \n",
        "\n",
        "# Run cross-validation, and choose the best set of parameters.\n",
        "cvModel = crossval.fit(cv_train)"
      ],
      "execution_count": 78,
      "outputs": []
    },
    {
      "cell_type": "code",
      "metadata": {
        "colab": {
          "base_uri": "https://localhost:8080/"
        },
        "id": "O7ouMglC9oxq",
        "outputId": "860eceb3-c902-4128-b686-8b12d9927fc1"
      },
      "source": [
        "cvModel.avgMetrics"
      ],
      "execution_count": 79,
      "outputs": [
        {
          "output_type": "execute_result",
          "data": {
            "text/plain": [
              "[0.8723809523809524,\n",
              " 0.8723809523809524,\n",
              " 0.8514285714285715,\n",
              " 0.8514285714285715,\n",
              " 0.900952380952381,\n",
              " 0.900952380952381,\n",
              " 0.900952380952381,\n",
              " 0.8509523809523809,\n",
              " 0.900952380952381,\n",
              " 0.8128571428571427,\n",
              " 0.900952380952381,\n",
              " 0.8128571428571427,\n",
              " 0.900952380952381,\n",
              " 0.8128571428571427,\n",
              " 0.900952380952381,\n",
              " 0.8128571428571427,\n",
              " 0.900952380952381,\n",
              " 0.8128571428571427,\n",
              " 0.900952380952381,\n",
              " 0.8128571428571427]"
            ]
          },
          "metadata": {
            "tags": []
          },
          "execution_count": 79
        }
      ]
    },
    {
      "cell_type": "code",
      "metadata": {
        "colab": {
          "base_uri": "https://localhost:8080/"
        },
        "id": "t2cU5y-19zZ_",
        "outputId": "1e880f32-07d0-47c6-e8eb-4cb9cc782306"
      },
      "source": [
        "BinaryClassificationEvaluator().evaluate(cvModel.transform(cv_test))"
      ],
      "execution_count": 83,
      "outputs": [
        {
          "output_type": "execute_result",
          "data": {
            "text/plain": [
              "0.7878787878787878"
            ]
          },
          "metadata": {
            "tags": []
          },
          "execution_count": 83
        }
      ]
    }
  ]
}